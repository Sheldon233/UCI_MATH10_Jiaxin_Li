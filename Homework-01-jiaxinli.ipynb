{
 "cells": [
  {
   "cell_type": "markdown",
   "metadata": {},
   "source": [
    "# Homework 1"
   ]
  },
  {
   "cell_type": "markdown",
   "metadata": {},
   "source": [
    "## Jiaxin Li     ID: 77664780"
   ]
  },
  {
   "cell_type": "markdown",
   "metadata": {},
   "source": [
    "### [fundamental theorem of calculus (Newton-Leibnitz formula)](https://en.wikipedia.org/wiki/Fundamental_theorem_of_calculus)"
   ]
  },
  {
   "cell_type": "markdown",
   "metadata": {},
   "source": [
    "There are two parts to the theorem. The first part deals with the derivative of an antiderivative, while the second part deals with the relationship between antiderivatives and definite integrals.\n",
    "\n",
    "This part is sometimes referred to as the first fundamental theorem of calculus.\n",
    "Let f be a continuous real-valued function defined on a closed interval $[a,b]$,  Let F be the function defined, for all x in $[a.b]$, by\n",
    "\n",
    "$$ \\int_a^xf(t) dt = F(x),$$\n",
    "Then F is uniformly continuous on [a, b] and differentiable on the open interval $(a,b)$, and\n",
    "\n",
    "$$ F'(x)=f(x)$$\n",
    "\n",
    "for all x in (a,b)"
   ]
  },
  {
   "cell_type": "code",
   "execution_count": null,
   "metadata": {},
   "outputs": [],
   "source": []
  }
 ],
 "metadata": {
  "kernelspec": {
   "display_name": "Python 3",
   "language": "python",
   "name": "python3"
  },
  "language_info": {
   "codemirror_mode": {
    "name": "ipython",
    "version": 3
   },
   "file_extension": ".py",
   "mimetype": "text/x-python",
   "name": "python",
   "nbconvert_exporter": "python",
   "pygments_lexer": "ipython3",
   "version": "3.7.3"
  }
 },
 "nbformat": 4,
 "nbformat_minor": 4
}
