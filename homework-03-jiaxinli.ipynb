{
 "cells": [
  {
   "cell_type": "markdown",
   "metadata": {},
   "source": [
    "# Homework 3\n",
    "### Jiaxin Li 77664780\n",
    "\n",
    "This homework has two problems. Please fill the code block cells with your code and comments, ***run*** everything (select `cell` in the menu, and click `Run all`), save the notebook, and upload it to canvas."
   ]
  },
  {
   "cell_type": "markdown",
   "metadata": {},
   "source": [
    "## Problem 1: Triangle Class\n",
    "\n",
    "Define the class named `Triangle`, which takes three positive number $a,b,c$ as the input to initialize the instance, representing the length of three sides. The class should have \n",
    "- three attributes named a,b,c corresponding to the input.\n",
    "- a method named `is_triangle`, which returns `True` if the three number forms a valid triangle, and `False` othersie.\n",
    "- a method named `perimeter`, which returns the perimeter of triangle. \n",
    "- a method named `area`, which returns the area of triangle. *Hint: you can use [Heron's formula](https://www.mathsisfun.com/geometry/herons-formula.html)*\n",
    "- a method named `height`, which returns a list containg the three heights corresponded to the three input bases."
   ]
  },
  {
   "cell_type": "code",
   "execution_count": 111,
   "metadata": {},
   "outputs": [],
   "source": [
    "import math\n",
    "\n",
    "class Triangle:\n",
    "    '''takes three prositive integer a,b,c'''\n",
    "    \n",
    "    def __init__(self,a,b,c):\n",
    "        self.a=a\n",
    "        self.b=b\n",
    "        self.c=c\n",
    "        \n",
    "    def is_triangle(self):\n",
    "        \"determine wheter three length can form a traingle or not\"\n",
    "        if self.a>0 and self.b>0 and self.c>0:\n",
    "            if self.a+self.b>self.c and abs(self.a-self.b)<self.c:\n",
    "                return True\n",
    "            return False\n",
    "        return False\n",
    "            \n",
    "    \n",
    "    def perimeter(self):\n",
    "        if self.is_triangle():\n",
    "            return self.a+self.b+self.c\n",
    "        return \"it's not a triangle.\"\n",
    "    \n",
    "    def area(self):\n",
    "        if self.is_triangle():\n",
    "            s=(self.a+self.b+self.c)/2\n",
    "            return math.sqrt(s*(s-self.a)*(s-self.b)*(s-self.c))\n",
    "        return \"it's not a triangle.\"\n",
    "    \n",
    "    def height(self):\n",
    "        if self.is_triangle():\n",
    "            ar=self.area()\n",
    "            x=2*ar/self.a\n",
    "            y=2*ar/self.b\n",
    "            z=2*ar/self.c\n",
    "            height_list=[x,y,z]\n",
    "            return height_list\n",
    "        return \"it's not a triangle.\""
   ]
  },
  {
   "cell_type": "markdown",
   "metadata": {},
   "source": [
    "When your code is done, run it and test the class with following piplines -- Please re-run and save the results below."
   ]
  },
  {
   "cell_type": "code",
   "execution_count": 169,
   "metadata": {},
   "outputs": [
    {
     "data": {
      "text/plain": [
       "False"
      ]
     },
     "execution_count": 169,
     "metadata": {},
     "output_type": "execute_result"
    }
   ],
   "source": [
    "triangle_1 = Triangle(1.0,4.0,5.0)\n",
    "triangle_1.is_triangle()"
   ]
  },
  {
   "cell_type": "code",
   "execution_count": 168,
   "metadata": {},
   "outputs": [
    {
     "name": "stdout",
     "output_type": "stream",
     "text": [
      "True\n",
      "12.0\n",
      "6.0\n",
      "[4.0, 3.0, 2.4]\n"
     ]
    }
   ],
   "source": [
    "triangle_2 = Triangle(3.0,4,5.0)\n",
    "print(triangle_2.is_triangle())\n",
    "print(triangle_2.perimeter())\n",
    "print(triangle_2.area())\n",
    "print(triangle_2.height())"
   ]
  },
  {
   "cell_type": "markdown",
   "metadata": {},
   "source": [
    "Note that your defined methods should be valid for any triangle instead of special ones."
   ]
  },
  {
   "cell_type": "markdown",
   "metadata": {},
   "source": [
    "## Problem 2: Line Class\n",
    "\n",
    "Define the class called `Line` which represents a line with equation $y = kx + b$ with input slope $k$ and intercept $b$ to initialize the instances. It should include:\n",
    "- attributes named $k$ and $b$ to represent slope and intercept.\n",
    "- method named `intersect` to return the list, containing coordinates of the intersection point of two lines.\n",
    "- support for `+` operator to compute the addition of two equations. The sum of two `Line` objects $y=k_{1}x+b_{1}$ and $y=k_{2}x+b_{2}$ is defined as the line $y=(k_{1}+k_{2})x+b_{1}+b_{2}$.\n",
    "- printable representation for the equation of line, which we have already defined in `__repr__` speical method below."
   ]
  },
  {
   "cell_type": "code",
   "execution_count": 170,
   "metadata": {},
   "outputs": [],
   "source": [
    "class Line:\n",
    "    '''a line of form y=kx+b'''\n",
    "    \n",
    "    def __init__(self, slope, intercept):  #When called with var=Line(slope, intercept)\n",
    "        \" self is refering to an obj in this class\"\n",
    "        \"slope, intercept are the input the user gives\"\n",
    "        \"below code checks if inputs are floats and returns an error if not\"\n",
    "        if not all(map(lambda x: isinstance(x,(float,int)),(slope, intercept))):\n",
    "            raise TypeError(\"All two inputs should be numbers!\")\n",
    "        self.k=slope\n",
    "        self.b=intercept\n",
    "    \n",
    "    def __repr__(self):  \n",
    "        '''printable representation of the line by equation y = k*x+b'''\n",
    "        return 'line y = %r*x + %r' % (self.k, self.b)\n",
    "\n",
    "    def __add__(self,line2):\n",
    "        '''The sum of two line objects y=k_1*x+b_1, y=k_2*x+b_2, is defined as the line y=(k_1+k_2)x+b_1+b_2'''\n",
    "        return Line(self.k+line2.k, self.b+line2.b)\n",
    "    def intersect(self,line2):\n",
    "        '''Finding the coordinate of two lines' interception '''\n",
    "        if self.k==line2.k:\n",
    "            if self.b==line2.b:\n",
    "                return print(\"two lines overlap with eachother\")\n",
    "            return print(\"there is no interception between two lines\")\n",
    "        x=(self.b-line2.b)/(line2.k-self.k)\n",
    "        y=x*self.k+self.b\n",
    "        return (x,y)"
   ]
  },
  {
   "cell_type": "markdown",
   "metadata": {},
   "source": [
    "When your code is done, run it and test the class with following piplines -- Please re-run and save the results below."
   ]
  },
  {
   "cell_type": "code",
   "execution_count": 171,
   "metadata": {},
   "outputs": [],
   "source": [
    "line1 = Line(2,1)\n",
    "line2 = Line(1,2)\n",
    "line3 = line1+line2"
   ]
  },
  {
   "cell_type": "code",
   "execution_count": 172,
   "metadata": {},
   "outputs": [
    {
     "data": {
      "text/plain": [
       "line y = 3*x + 3"
      ]
     },
     "execution_count": 172,
     "metadata": {},
     "output_type": "execute_result"
    }
   ],
   "source": [
    "line3"
   ]
  },
  {
   "cell_type": "code",
   "execution_count": 173,
   "metadata": {},
   "outputs": [
    {
     "name": "stdout",
     "output_type": "stream",
     "text": [
      "(1.0, 3.0)\n"
     ]
    }
   ],
   "source": [
    "point = line1.intersect(line2)\n",
    "print(point)"
   ]
  }
 ],
 "metadata": {
  "kernelspec": {
   "display_name": "Python 3",
   "language": "python",
   "name": "python3"
  },
  "language_info": {
   "codemirror_mode": {
    "name": "ipython",
    "version": 3
   },
   "file_extension": ".py",
   "mimetype": "text/x-python",
   "name": "python",
   "nbconvert_exporter": "python",
   "pygments_lexer": "ipython3",
   "version": "3.7.3"
  }
 },
 "nbformat": 4,
 "nbformat_minor": 4
}
